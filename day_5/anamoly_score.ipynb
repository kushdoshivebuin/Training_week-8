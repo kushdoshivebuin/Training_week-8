{
 "cells": [
  {
   "cell_type": "markdown",
   "metadata": {},
   "source": [
    "S(x, m) = 2<sup>-E(h(x))/c(m)</sup>\n",
    "\n",
    "where\n",
    "\n",
    "    E(h(x)) : Average search depth for x from the isolated tree\n",
    "\n",
    "    c(m) : Average depth of all the data points\n",
    "\n",
    "\n",
    "If E(h(x)) << c(m) then S(x, m) is approx to 1 -> Outlier\n",
    "\n",
    "If E(h(x)) >> c(m) then S(x, m) is approx to 0.5 -> Normal data point"
   ]
  }
 ],
 "metadata": {
  "language_info": {
   "name": "python"
  }
 },
 "nbformat": 4,
 "nbformat_minor": 2
}
